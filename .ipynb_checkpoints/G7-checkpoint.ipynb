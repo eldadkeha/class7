{
 "cells": [
  {
   "cell_type": "code",
   "execution_count": 1,
   "id": "9b3b9d82-49fd-4579-a638-753b13195426",
   "metadata": {},
   "outputs": [
    {
     "data": {
      "application/vnd.jupyter.widget-view+json": {
       "model_id": "50639e84845e4e53a69571dc8dc14371",
       "version_major": 2,
       "version_minor": 0
      },
      "text/plain": [
       "interactive(children=(IntSlider(value=1000, description='SamplesNum', layout=Layout(width='800px'), max=10000,…"
      ]
     },
     "metadata": {},
     "output_type": "display_data"
    },
    {
     "data": {
      "text/html": [
       "<style>[data-mime-type=\"application/vnd.jupyter.stdout\"] pre { font-size:18px}</style>"
      ],
      "text/plain": [
       "<IPython.core.display.HTML object>"
      ]
     },
     "metadata": {},
     "output_type": "display_data"
    }
   ],
   "source": [
    "# nbi:hide_in \n",
    "import pandas as pd\n",
    "import seaborn as sns\n",
    "import numpy as np\n",
    "import matplotlib.pyplot as plt\n",
    "from ipywidgets import interact, interactive, fixed, interact_manual, Layout\n",
    "import ipywidgets as widgets\n",
    "import random\n",
    "from scipy import stats\n",
    "from IPython.display import HTML\n",
    "\n",
    "data3 = pd.read_csv(\"data3.csv\")\n",
    "data4 = pd.read_csv(\"data4.csv\")\n",
    "FTN = data3['FT']\n",
    "FTI = data4['FT']\n",
    "\n",
    "sns.set(font=\"serif\", style = \"white\")\n",
    "\n",
    "def mean_boot(SamplesNum=1000, Sample_Size = 30):  \n",
    "  meanFTN = np.zeros(SamplesNum)\n",
    "  for i in range(SamplesNum):\n",
    "      SampledFTN=random.choices(FTN, k=Sample_Size)\n",
    "      meanFTN[i]=np.mean(SampledFTN)\n",
    "      FTIsample = random.choices(FTI, k=Sample_Size)\n",
    "      x = np.mean(FTIsample)\n",
    "\n",
    "  plt.figure(figsize=(12.7,6))\n",
    "  sns.histplot(FTIsample,bins=25,alpha=0.7, color=\"lightcoral\", stat = \"density\", label = \"The sample with Optical Illusion\");  \n",
    "  sns.histplot(meanFTN,bins=15,alpha=0.7, color=\"peachpuff\", stat = \"density\", kde = True, label = \"Sampling distrinution of NBA players\");\n",
    "  sns.kdeplot(meanFTN,color=\"darkred\");\n",
    "  plt.title (\"Can optical illusion improve Free-Throws shooting?\", size = 22, color = \"orange\")\n",
    "  plt.xlabel(\"Percentage of free throws Scoring\", size = 18)\n",
    "  plt.ylabel(\"Density\", size =18)\n",
    "  plt.yticks(size =14)\n",
    "  plt.xticks(size =14)\n",
    "  plt.axvline(x=np.mean(FTIsample), color='brown', linestyle='-', linewidth = 4, label = \"% of Shooting with Optical Illusion is \" + str(np.round(x, decimals = 2)));\n",
    "  plt.legend(fontsize = 14)\n",
    "\n",
    "  print(\"Overall, \" + str(stats.percentileofscore(meanFTN,(x)))+str(\" % of samples are shooting worth than our sample\"))\n",
    "  print(\"Or we can say that \" + str(np.round(100 - stats.percentileofscore(meanFTN,(x)), decimals = 2))+str(\" % are shooting better than our sample\"))  \n",
    "int_widget = interactive(mean_boot,SamplesNum=(1000,10000,100), Sample_Size=(2,100,1))\n",
    "int_widget.children[0].layout = Layout(width='800px')\n",
    "int_widget.children[1].layout = Layout(width='500px')\n",
    "display(int_widget)\n",
    "\n",
    "display(HTML('''<style>[data-mime-type=\"application/vnd.jupyter.stdout\"] pre { font-size:18px}</style>'''))\n",
    "\n",
    "\n",
    "\n"
   ]
  },
  {
   "cell_type": "code",
   "execution_count": null,
   "id": "0bf4881d-5fbc-43bb-982e-6e1855cef1e6",
   "metadata": {},
   "outputs": [],
   "source": []
  }
 ],
 "metadata": {
  "kernelspec": {
   "display_name": "Python 3 (ipykernel)",
   "language": "python",
   "name": "python3"
  },
  "language_info": {
   "codemirror_mode": {
    "name": "ipython",
    "version": 3
   },
   "file_extension": ".py",
   "mimetype": "text/x-python",
   "name": "python",
   "nbconvert_exporter": "python",
   "pygments_lexer": "ipython3",
   "version": "3.7.12"
  }
 },
 "nbformat": 4,
 "nbformat_minor": 5
}
